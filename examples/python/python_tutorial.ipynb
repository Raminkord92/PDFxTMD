{
 "cells": [
  {
   "cell_type": "markdown",
   "metadata": {},
   "source": [
    "# PDFxTMDLib Python Tutorial\n",
    "\n",
    "This notebook demonstrates all exposed methods of the PDFxTMD Python bindings, including collinear PDFs (CPDF), TMDs, and QCD coupling.\n",
    "\n",
    "## Installation\n",
    "```bash\n",
    "pip install pdfxtmd\n",
    "```\n",
    "\n",
    "API Reference: https://github.com/Raminkord92/PDFxTMD"
   ]
  },
  {
   "cell_type": "code",
   "execution_count": null,
   "metadata": {},
   "outputs": [
    {
     "name": "stdout",
     "output_type": "stream",
     "text": [
      "Collecting pdfxtmd\n",
      "  Downloading pdfxtmd-0.3.0-cp311-cp311-win_amd64.whl.metadata (100 bytes)\n",
      "Downloading pdfxtmd-0.3.0-cp311-cp311-win_amd64.whl (220 kB)\n",
      "Installing collected packages: pdfxtmd\n",
      "Successfully installed pdfxtmd-0.3.0\n"
     ]
    }
   ],
   "source": [
    "!pip install pdfxtmd"
   ]
  },
  {
   "cell_type": "code",
   "execution_count": null,
   "metadata": {},
   "outputs": [],
   "source": [
    "import pdfxtmd"
   ]
  },
  {
   "cell_type": "markdown",
   "metadata": {},
   "source": [
    "## Collinear PDFs (CPDF)"
   ]
  },
  {
   "cell_type": "code",
   "execution_count": null,
   "metadata": {},
   "outputs": [],
   "source": [
    "# 1. Create a CPDF factory and CPDF object\n",
    "cpdf_factory = pdfxtmd.GenericCPDFFactory()\n",
    "cpdf = cpdf_factory.mkCPDF(\"CT18NLO\", 0)\n",
    "\n",
    "# 2. Evaluate a single flavor\n",
    "x = 0.01\n",
    "mu2 = 100\n",
    "print(\"Up quark PDF:\", cpdf.pdf(pdfxtmd.PartonFlavor.u, x, mu2))\n",
    "print(\"Gluon PDF:\", cpdf.pdf(pdfxtmd.PartonFlavor.g, x, mu2))"
   ]
  },
  {
   "cell_type": "code",
   "execution_count": null,
   "metadata": {},
   "outputs": [],
   "source": [
    "# 3. Evaluate all flavors at once (output is modified in-place)\n",
    "all_flavors = [0.0]\n",
    "cpdf.pdf(x, mu2, all_flavors)\n",
    "print(\"All flavors (CPDF):\", all_flavors)"
   ]
  },
  {
   "cell_type": "markdown",
   "metadata": {},
   "source": [
    "## TMD PDFs"
   ]
  },
  {
   "cell_type": "code",
   "execution_count": 12,
   "metadata": {},
   "outputs": [
    {
     "name": "stdout",
     "output_type": "stream",
     "text": [
      "Gluon TMD: 0.13474574040434684\n",
      "Up quark TMD: 0.009341996739134256\n"
     ]
    }
   ],
   "source": [
    "# 4. Create a TMD factory and TMD object\n",
    "tmd_factory = pdfxtmd.GenericTMDFactory()\n",
    "tmd = tmd_factory.mkTMD(\"PB-LO-HERAI+II-2020-set2\", 0)\n",
    "\n",
    "# 5. Evaluate a single flavor TMD\n",
    "kt2 = 10\n",
    "print(\"Gluon TMD:\", tmd.tmd(pdfxtmd.PartonFlavor.g, x, kt2, mu2))\n",
    "print(\"Up quark TMD:\", tmd.tmd(pdfxtmd.PartonFlavor.u, x, kt2, mu2))"
   ]
  },
  {
   "cell_type": "code",
   "execution_count": 20,
   "metadata": {},
   "outputs": [
    {
     "ename": "ValueError",
     "evalue": "Error evaluating TMD for all flavors at x=0.010000, kt2=10.000000, mu2=100.000000: IndexError: list assignment index out of range",
     "output_type": "error",
     "traceback": [
      "\u001b[31m---------------------------------------------------------------------------\u001b[39m",
      "\u001b[31mValueError\u001b[39m                                Traceback (most recent call last)",
      "\u001b[36mCell\u001b[39m\u001b[36m \u001b[39m\u001b[32mIn[20]\u001b[39m\u001b[32m, line 3\u001b[39m\n\u001b[32m      1\u001b[39m \u001b[38;5;66;03m# 6. Evaluate all TMD flavors at once (output is modified in-place)\u001b[39;00m\n\u001b[32m      2\u001b[39m all_tmd_flavors = []\n\u001b[32m----> \u001b[39m\u001b[32m3\u001b[39m \u001b[43mtmd\u001b[49m\u001b[43m.\u001b[49m\u001b[43mtmd\u001b[49m\u001b[43m(\u001b[49m\u001b[43mx\u001b[49m\u001b[43m,\u001b[49m\u001b[43m \u001b[49m\u001b[43mkt2\u001b[49m\u001b[43m,\u001b[49m\u001b[43m \u001b[49m\u001b[43mmu2\u001b[49m\u001b[43m,\u001b[49m\u001b[43m \u001b[49m\u001b[43mall_tmd_flavors\u001b[49m\u001b[43m)\u001b[49m\n\u001b[32m      4\u001b[39m \u001b[38;5;28mprint\u001b[39m(\u001b[33m\"\u001b[39m\u001b[33mAll flavors (TMD):\u001b[39m\u001b[33m\"\u001b[39m, all_tmd_flavors)\n",
      "\u001b[31mValueError\u001b[39m: Error evaluating TMD for all flavors at x=0.010000, kt2=10.000000, mu2=100.000000: IndexError: list assignment index out of range"
     ]
    }
   ],
   "source": [
    "# 6. Evaluate all TMD flavors at once (output is modified in-place)\n",
    "all_tmd_flavors = []\n",
    "tmd.tmd(x, kt2, mu2, all_tmd_flavors)\n",
    "print(\"All flavors (TMD):\", all_tmd_flavors)"
   ]
  },
  {
   "cell_type": "markdown",
   "metadata": {},
   "source": [
    "## QCD Coupling"
   ]
  },
  {
   "cell_type": "code",
   "execution_count": 15,
   "metadata": {},
   "outputs": [
    {
     "name": "stdout",
     "output_type": "stream",
     "text": [
      "Alpha_s at mu2=10: 0.2476363039982271\n",
      "Alpha_s at mu2=100: 0.17799804146034026\n",
      "Alpha_s at mu2=1000: 0.140581925550369\n",
      "Alpha_s at mu2=10000: 0.11641802733180297\n"
     ]
    }
   ],
   "source": [
    "# 7. Create a coupling factory and coupling object\n",
    "coupling_factory = pdfxtmd.CouplingFactory()\n",
    "coupling = coupling_factory.mkCoupling(\"CT18NLO\")\n",
    "\n",
    "# 8. Evaluate alpha_s at different scales\n",
    "for scale in [10, 100, 1000, 10000]:\n",
    "    print(f\"Alpha_s at mu2={scale}:\", coupling.AlphaQCDMu2(scale))"
   ]
  },
  {
   "cell_type": "markdown",
   "metadata": {},
   "source": [
    "## Error Handling Examples"
   ]
  },
  {
   "cell_type": "code",
   "execution_count": 16,
   "metadata": {},
   "outputs": [
    {
     "name": "stdout",
     "output_type": "stream",
     "text": [
      "Expected error for invalid x in CPDF: Error evaluating CPDF for flavor 2 at x=-0.100000, mu2=100.000000: Momentum fraction x must be in (0, 1)\n",
      "Expected error for invalid kt2 in TMD: Error evaluating TMD for flavor 21 at x=0.010000, kt2=-5.000000, mu2=100.000000: Transverse momentum squared kt2 must be non-negative\n",
      "Expected error for invalid mu2 in Coupling: Error calculating alpha_s at mu2=-1.000000: Factorization scale squared (mu2) must be positive\n"
     ]
    }
   ],
   "source": [
    "try:\n",
    "    # Invalid x (should raise an error)\n",
    "    cpdf.pdf(pdfxtmd.PartonFlavor.u, -0.1, mu2)\n",
    "except Exception as e:\n",
    "    print(\"Expected error for invalid x in CPDF:\", e)\n",
    "\n",
    "try:\n",
    "    # Invalid kt2 (should raise an error)\n",
    "    tmd.tmd(pdfxtmd.PartonFlavor.g, x, -5, mu2)\n",
    "except Exception as e:\n",
    "    print(\"Expected error for invalid kt2 in TMD:\", e)\n",
    "\n",
    "try:\n",
    "    # Invalid mu2 (should raise an error)\n",
    "    coupling.AlphaQCDMu2(-1)\n",
    "except Exception as e:\n",
    "    print(\"Expected error for invalid mu2 in Coupling:\", e)"
   ]
  },
  {
   "cell_type": "markdown",
   "metadata": {},
   "source": [
    "## Enumerate all PartonFlavor values"
   ]
  },
  {
   "cell_type": "code",
   "execution_count": 18,
   "metadata": {},
   "outputs": [
    {
     "name": "stdout",
     "output_type": "stream",
     "text": [
      "All PartonFlavor enum values:\n",
      "  u: 2\n",
      "  d: 1\n",
      "  s: 3\n",
      "  c: 4\n",
      "  b: 5\n",
      "  t: 6\n",
      "  g: 21\n",
      "  ubar: -2\n",
      "  dbar: -1\n",
      "  sbar: -3\n",
      "  cbar: -4\n",
      "  bbar: -5\n",
      "  tbar: -6\n"
     ]
    }
   ],
   "source": [
    "print(\"All PartonFlavor enum values:\")\n",
    "for name, flavor in pdfxtmd.PartonFlavor.__members__.items():\n",
    "    print(f\"  {name}: {flavor.value}\")"
   ]
  },
  {
   "cell_type": "code",
   "execution_count": null,
   "metadata": {},
   "outputs": [],
   "source": []
  }
 ],
 "metadata": {
  "kernelspec": {
   "display_name": "base",
   "language": "python",
   "name": "python3"
  },
  "language_info": {
   "codemirror_mode": {
    "name": "ipython",
    "version": 3
   },
   "file_extension": ".py",
   "mimetype": "text/x-python",
   "name": "python",
   "nbconvert_exporter": "python",
   "pygments_lexer": "ipython3",
   "version": "3.12.3"
  }
 },
 "nbformat": 4,
 "nbformat_minor": 2
}
